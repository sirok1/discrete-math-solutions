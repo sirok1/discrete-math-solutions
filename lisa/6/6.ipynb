{
 "cells": [
  {
   "cell_type": "markdown",
   "source": [
    "Решето Эратосфена"
   ],
   "metadata": {
    "collapsed": false
   },
   "id": "919b63f3b22a7f4d"
  },
  {
   "cell_type": "code",
   "execution_count": 5,
   "outputs": [
    {
     "data": {
      "text/plain": "[2,\n 3,\n 5,\n 7,\n 11,\n 13,\n 17,\n 19,\n 23,\n 29,\n 31,\n 37,\n 41,\n 43,\n 47,\n 53,\n 59,\n 61,\n 67,\n 71,\n 73,\n 79,\n 83,\n 89,\n 97,\n 101,\n 103,\n 107,\n 109,\n 113,\n 127,\n 131,\n 137,\n 139,\n 149,\n 151,\n 157,\n 163,\n 167,\n 173,\n 179,\n 181,\n 191,\n 193,\n 197,\n 199,\n 211,\n 223,\n 227,\n 229,\n 233,\n 239,\n 241,\n 251]"
     },
     "execution_count": 5,
     "metadata": {},
     "output_type": "execute_result"
    }
   ],
   "source": [
    "# Решето Эратосфена для построения таблицы простых чисел меньших 256\n",
    "def sieve_of_eratosthenes(n):\n",
    "    prime_flags = [True] * (n + 1)\n",
    "    prime_flags[0] = prime_flags[1] = False\n",
    "    \n",
    "    for i in range(2, int(n**0.5) + 1):\n",
    "        if prime_flags[i]:\n",
    "            for j in range(i*i, n+1, i):\n",
    "                prime_flags[j] = False\n",
    "                \n",
    "    primes = [i for i in range(2, n+1) if prime_flags[i]]\n",
    "    return primes\n",
    "\n",
    "# Построение таблицы простых чисел меньших 256\n",
    "primes_less_than_256 = sieve_of_eratosthenes(256)\n",
    "primes_less_than_256\n"
   ],
   "metadata": {
    "collapsed": false,
    "ExecuteTime": {
     "end_time": "2023-11-21T01:04:33.459065019Z",
     "start_time": "2023-11-21T01:04:33.417922267Z"
    }
   },
   "id": "4f49640ac9e88f74"
  },
  {
   "cell_type": "markdown",
   "source": [],
   "metadata": {
    "collapsed": false
   },
   "id": "55fcdd877d60aad5"
  },
  {
   "cell_type": "markdown",
   "source": [
    "Метод Ферма для проверки числа на простоту и разложения его на множители в случае составного числа"
   ],
   "metadata": {
    "collapsed": false
   },
   "id": "1b75230fe3db0973"
  },
  {
   "cell_type": "code",
   "execution_count": 6,
   "outputs": [
    {
     "name": "stdout",
     "output_type": "stream",
     "text": [
      "17 - простое число\n"
     ]
    }
   ],
   "source": [
    "import random\n",
    "\n",
    "\n",
    "# Метод Ферма для проверки простоты числа и разложения его на множители\n",
    "def fermat_primality_test(n, k=5):\n",
    "    if n <= 1:\n",
    "        return False\n",
    "    elif n == 2 or n == 3:\n",
    "        return True\n",
    "    elif n % 2 == 0:\n",
    "        return False\n",
    "\n",
    "    for _ in range(k):\n",
    "        a = random.randint(2, n - 2)\n",
    "        if pow(a, n - 1, n) != 1:\n",
    "            return False\n",
    "\n",
    "    return True\n",
    "\n",
    "def factorize(n):\n",
    "    factors = []\n",
    "    divisor = 2\n",
    "    while divisor <= n:\n",
    "        if n % divisor == 0:\n",
    "            factors.append(divisor)\n",
    "            n = n // divisor\n",
    "        else:\n",
    "            divisor += 1\n",
    "    return factors\n",
    "\n",
    "# Пример использования метода Ферма\n",
    "number_to_check = 17\n",
    "is_prime = fermat_primality_test(number_to_check)\n",
    "if is_prime:\n",
    "    print(f\"{number_to_check} - простое число\")\n",
    "else:\n",
    "    print(f\"{number_to_check} - составное число, разложение на множители: {factorize(number_to_check)}\")\n"
   ],
   "metadata": {
    "collapsed": false,
    "ExecuteTime": {
     "end_time": "2023-11-21T01:04:33.524711405Z",
     "start_time": "2023-11-21T01:04:33.435877295Z"
    }
   },
   "id": "b9c6c0ac65947367"
  },
  {
   "cell_type": "markdown",
   "source": [
    "Код для тестов Соловея-Штрассена, Лемана, Рабина-Миллера и непосредственной проверки"
   ],
   "metadata": {
    "collapsed": false
   },
   "id": "28cb2afb8a88a41"
  },
  {
   "cell_type": "code",
   "execution_count": 7,
   "outputs": [
    {
     "name": "stdout",
     "output_type": "stream",
     "text": [
      "Проверка простоты числа 104729:\n",
      "Тест Соловея-Штрассена: True\n",
      "Тест Лемана: False\n",
      "Тест Рабина-Миллера: True\n",
      "Непосредственная проверка: True\n"
     ]
    }
   ],
   "source": [
    "import random\n",
    "\n",
    "# Тест Соловея-Штрассена\n",
    "def is_strong_pseudoprime(n, a):\n",
    "    if n == 2:\n",
    "        return True\n",
    "    if n % 2 == 0 or pow(a, n-1, n) != 1:\n",
    "        return False\n",
    "    s, d = 0, n-1\n",
    "    while d % 2 == 0:\n",
    "        s += 1\n",
    "        d //= 2\n",
    "    x = pow(a, d, n)\n",
    "    if x == 1 or x == n-1:\n",
    "        return True\n",
    "    for _ in range(s-1):\n",
    "        x = pow(x, 2, n)\n",
    "        if x == n-1:\n",
    "            return True\n",
    "    return False\n",
    "\n",
    "# Тест Лемана\n",
    "def lehmann_test(n, k=5):\n",
    "    for _ in range(k):\n",
    "        a = random.randint(2, n-2)\n",
    "        if pow(a, (n-1)//2, n) != 1:\n",
    "            return False\n",
    "        if pow(a, n-1, n) != 1:\n",
    "            return False\n",
    "    return True\n",
    "\n",
    "# Тест Рабина-Миллера\n",
    "def miller_rabin_test(n, k=5):\n",
    "    if n == 2 or n == 3:\n",
    "        return True\n",
    "    if n % 2 == 0:\n",
    "        return False\n",
    "    r, s = 0, n - 1\n",
    "    while s % 2 == 0:\n",
    "        r += 1\n",
    "        s //= 2\n",
    "    for _ in range(k):\n",
    "        a = random.randint(2, n - 2)\n",
    "        x = pow(a, s, n)\n",
    "        if x == 1 or x == n - 1:\n",
    "            continue\n",
    "        for _ in range(r - 1):\n",
    "            x = pow(x, 2, n)\n",
    "            if x == n - 1:\n",
    "                break\n",
    "        else:\n",
    "            return False\n",
    "    return True\n",
    "\n",
    "# Непосредственная проверка на простоту\n",
    "def is_prime_direct(n):\n",
    "    if n < 2:\n",
    "        return False\n",
    "    for i in range(2, int(n**0.5) + 1):\n",
    "        if n % i == 0:\n",
    "            return False\n",
    "    return True\n",
    "\n",
    "# Пример использования всех тестов\n",
    "number_to_check = 104729  # Пример большого простого числа\n",
    "print(f\"Проверка простоты числа {number_to_check}:\")\n",
    "\n",
    "# Тест Соловея-Штрассена\n",
    "print(f\"Тест Соловея-Штрассена: {is_strong_pseudoprime(number_to_check, 2)}\")\n",
    "\n",
    "# Тест Лемана\n",
    "print(f\"Тест Лемана: {lehmann_test(number_to_check)}\")\n",
    "\n",
    "# Тест Рабина-Миллера\n",
    "print(f\"Тест Рабина-Миллера: {miller_rabin_test(number_to_check)}\")\n",
    "\n",
    "# Непосредственная проверка на простоту\n",
    "print(f\"Непосредственная проверка: {is_prime_direct(number_to_check)}\")\n"
   ],
   "metadata": {
    "collapsed": false,
    "ExecuteTime": {
     "end_time": "2023-11-21T01:04:33.525268475Z",
     "start_time": "2023-11-21T01:04:33.480338807Z"
    }
   },
   "id": "6163b9167ca81bcd"
  }
 ],
 "metadata": {
  "kernelspec": {
   "display_name": "Python 3",
   "language": "python",
   "name": "python3"
  },
  "language_info": {
   "codemirror_mode": {
    "name": "ipython",
    "version": 2
   },
   "file_extension": ".py",
   "mimetype": "text/x-python",
   "name": "python",
   "nbconvert_exporter": "python",
   "pygments_lexer": "ipython2",
   "version": "2.7.6"
  }
 },
 "nbformat": 4,
 "nbformat_minor": 5
}
