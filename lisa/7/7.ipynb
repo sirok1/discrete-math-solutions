{
 "cells": [
  {
   "cell_type": "markdown",
   "source": [
    "Предварительная обработка текста"
   ],
   "metadata": {
    "collapsed": false
   },
   "id": "f589bb0e2cddd0de"
  },
  {
   "cell_type": "code",
   "execution_count": 20,
   "outputs": [],
   "source": [
    "import string\n",
    "\n",
    "def preprocess_text(text):\n",
    "    # Привести к нижнему регистру\n",
    "    text = text.lower()\n",
    "    \n",
    "    # Удалить знаки препинания\n",
    "    translator = str.maketrans(\"\", \"\", string.punctuation)\n",
    "    text = text.translate(translator)\n",
    "    \n",
    "    return text\n"
   ],
   "metadata": {
    "collapsed": false,
    "ExecuteTime": {
     "end_time": "2023-11-21T01:14:27.044167394Z",
     "start_time": "2023-11-21T01:14:26.932662747Z"
    }
   },
   "id": "61ac23a5794b9ea8"
  },
  {
   "cell_type": "markdown",
   "source": [
    "Протестируем"
   ],
   "metadata": {
    "collapsed": false
   },
   "id": "f08430f4aead7ffb"
  },
  {
   "cell_type": "code",
   "execution_count": 21,
   "outputs": [
    {
     "name": "stdout",
     "output_type": "stream",
     "text": [
      "привет мир как дела\n"
     ]
    }
   ],
   "source": [
    "text = \"Привет, мир! Как дела?\"\n",
    "processed_text = preprocess_text(text)\n",
    "print(processed_text)"
   ],
   "metadata": {
    "collapsed": false,
    "ExecuteTime": {
     "end_time": "2023-11-21T01:14:27.126636880Z",
     "start_time": "2023-11-21T01:14:26.942727660Z"
    }
   },
   "id": "c976fcbad1b8dcfd"
  },
  {
   "cell_type": "markdown",
   "source": [
    "Простая замена:"
   ],
   "metadata": {
    "collapsed": false
   },
   "id": "84ed9c77d41769a6"
  },
  {
   "cell_type": "code",
   "execution_count": 22,
   "outputs": [],
   "source": [
    "def simple_substitution_cipher(text, key):\n",
    "    alphabet = \"абвгдеёжзийклмнопрстуфхцчшщъыьэюя\"\n",
    "    \n",
    "    # Повторяем ключ, чтобы он был достаточно длинным\n",
    "    key = key * (len(alphabet) // len(key)) + key[:len(alphabet) % len(key)]\n",
    "    \n",
    "    # Создаем словарь простой замены\n",
    "    substitution_dict = {alphabet[i]: key[i] for i in range(len(alphabet))}\n",
    "    \n",
    "    # Производим замену\n",
    "    encrypted_text = \"\".join(substitution_dict.get(char, char) for char in text)\n",
    "    \n",
    "    return encrypted_text"
   ],
   "metadata": {
    "collapsed": false,
    "ExecuteTime": {
     "end_time": "2023-11-21T01:14:27.129434646Z",
     "start_time": "2023-11-21T01:14:26.956687548Z"
    }
   },
   "id": "9f40889140c0e718"
  },
  {
   "cell_type": "markdown",
   "source": [
    "Тестируем"
   ],
   "metadata": {
    "collapsed": false
   },
   "id": "6b53e7f539b06548"
  },
  {
   "cell_type": "code",
   "execution_count": 23,
   "outputs": [
    {
     "name": "stdout",
     "output_type": "stream",
     "text": [
      "щтъяхч, жът!\n"
     ]
    }
   ],
   "source": [
    "text = \"привет, мир!\"\n",
    "key = \"фзяцэхшсщъчфджцпщтэчьё\"\n",
    "encrypted_text = simple_substitution_cipher(text, key)\n",
    "print(encrypted_text)\n"
   ],
   "metadata": {
    "collapsed": false,
    "ExecuteTime": {
     "end_time": "2023-11-21T01:14:27.129973953Z",
     "start_time": "2023-11-21T01:14:26.979021200Z"
    }
   },
   "id": "280fa23a703e6a44"
  },
  {
   "cell_type": "markdown",
   "source": [
    "Сложная замена:"
   ],
   "metadata": {
    "collapsed": false
   },
   "id": "44cb4a499d283649"
  },
  {
   "cell_type": "code",
   "execution_count": 24,
   "outputs": [],
   "source": [
    "import random\n",
    "\n",
    "def complex_substitution_cipher(text):\n",
    "    alphabet = list(\"абвгдеёжзийклмнопрстуфхцчшщъыьэюя\")\n",
    "    shuffled_alphabet = list(alphabet)\n",
    "    random.shuffle(shuffled_alphabet)\n",
    "    \n",
    "    substitution_dict = {alphabet[i]: shuffled_alphabet[i] for i in range(len(alphabet))}\n",
    "    \n",
    "    encrypted_text = \"\".join(substitution_dict.get(char, char) for char in text)\n",
    "    \n",
    "    return encrypted_text, shuffled_alphabet\n"
   ],
   "metadata": {
    "collapsed": false,
    "ExecuteTime": {
     "end_time": "2023-11-21T01:14:27.154527408Z",
     "start_time": "2023-11-21T01:14:26.979576692Z"
    }
   },
   "id": "87d92436fb792f72"
  },
  {
   "cell_type": "markdown",
   "source": [
    "Тестируем"
   ],
   "metadata": {
    "collapsed": false
   },
   "id": "b17219b4efc73c0e"
  },
  {
   "cell_type": "code",
   "execution_count": 25,
   "outputs": [
    {
     "name": "stdout",
     "output_type": "stream",
     "text": [
      "ибнога, днб!\n",
      "Ключ шифрования: ['ё', 'я', 'о', 'з', 'к', 'г', 'х', 'ъ', 'л', 'н', 'й', 'ь', 'р', 'д', 'с', 'ц', 'и', 'б', 'в', 'а', 'т', 'ш', 'у', 'щ', 'э', 'ж', 'п', 'ю', 'ы', 'е', 'м', 'ч', 'ф']\n"
     ]
    }
   ],
   "source": [
    "text = \"привет, мир!\"\n",
    "encrypted_text, key = complex_substitution_cipher(text)\n",
    "print(encrypted_text)\n",
    "print(\"Ключ шифрования:\", key)"
   ],
   "metadata": {
    "collapsed": false,
    "ExecuteTime": {
     "end_time": "2023-11-21T01:14:27.157016539Z",
     "start_time": "2023-11-21T01:14:26.988086878Z"
    }
   },
   "id": "9a7955b851c6db2d"
  },
  {
   "cell_type": "markdown",
   "source": [
    "Дешифровка"
   ],
   "metadata": {
    "collapsed": false
   },
   "id": "5bbafb8ac66d3234"
  },
  {
   "cell_type": "code",
   "execution_count": 26,
   "outputs": [],
   "source": [
    "def decrypt_substitution_cipher(encrypted_text, key):\n",
    "    alphabet = list(\"абвгдеёжзийклмнопрстуфхцчшщъыьэюя\")\n",
    "    \n",
    "    # Создаем словарь дешифровки\n",
    "    decryption_dict = {key[i]: alphabet[i] for i in range(len(alphabet))}\n",
    "    \n",
    "    # Производим дешифровку\n",
    "    decrypted_text = \"\".join(decryption_dict.get(char, char) for char in encrypted_text)\n",
    "    \n",
    "    return decrypted_text\n"
   ],
   "metadata": {
    "collapsed": false,
    "ExecuteTime": {
     "end_time": "2023-11-21T01:14:27.172832313Z",
     "start_time": "2023-11-21T01:14:27.031832691Z"
    }
   },
   "id": "bb32c536767caddd"
  },
  {
   "cell_type": "markdown",
   "source": [
    "Тестируем"
   ],
   "metadata": {
    "collapsed": false
   },
   "id": "fb7195e9affed504"
  },
  {
   "cell_type": "code",
   "execution_count": 27,
   "outputs": [
    {
     "name": "stdout",
     "output_type": "stream",
     "text": [
      "привет, мир!\n"
     ]
    }
   ],
   "source": [
    "decrypted_text = decrypt_substitution_cipher(encrypted_text, key)\n",
    "print(decrypted_text)"
   ],
   "metadata": {
    "collapsed": false,
    "ExecuteTime": {
     "end_time": "2023-11-21T01:14:27.173550269Z",
     "start_time": "2023-11-21T01:14:27.032329216Z"
    }
   },
   "id": "5bc903086fc1519d"
  }
 ],
 "metadata": {
  "kernelspec": {
   "display_name": "Python 3",
   "language": "python",
   "name": "python3"
  },
  "language_info": {
   "codemirror_mode": {
    "name": "ipython",
    "version": 2
   },
   "file_extension": ".py",
   "mimetype": "text/x-python",
   "name": "python",
   "nbconvert_exporter": "python",
   "pygments_lexer": "ipython2",
   "version": "2.7.6"
  }
 },
 "nbformat": 4,
 "nbformat_minor": 5
}
